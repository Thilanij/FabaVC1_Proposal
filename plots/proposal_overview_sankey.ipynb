{
 "cells": [
  {
   "attachments": {},
   "cell_type": "markdown",
   "metadata": {},
   "source": [
    "### Logic model using sankey diagram for research proposal overview"
   ]
  },
  {
   "cell_type": "code",
   "execution_count": 3,
   "metadata": {},
   "outputs": [
    {
     "data": {
      "image/png": "[encoded data removed]",
      "text/plain": [
       "<Figure size 576x72 with 1 Axes>"
      ]
     },
     "metadata": {},
     "output_type": "display_data"
    }
   ],
   "source": [
    "import seaborn as sns\n",
    "import pandas as pd\n",
    "\n",
    "sns.set()\n",
    "\n",
    "def hex_to_rgb(hex_value):\n",
    "  h = hex_value.lstrip('#')\n",
    "  return tuple(int(h[i:i + 2], 16) / 255.0 for i in (0, 2, 4))\n",
    "\n",
    "#copied hex values from MetBrewer source code https://github.com/BlakeRMills/MetBrewer/blob/main/Python/met_brewer/palettes.py\n",
    "Thomas=[\"#b24422\", \"#c44d76\", \"#4457a5\", \"#13315f\", \"#b1a1cc\", \"#59386c\", \"#447861\", \"#7caf5c\"]\n",
    "\n",
    "rgb_colors = list(map(hex_to_rgb, Thomas))\n",
    "\n",
    "sns.palplot(rgb_colors)"
   ]
  },
  {
   "cell_type": "code",
   "execution_count": 4,
   "metadata": {},
   "outputs": [
    {
     "data": {
      "text/html": [
       "<div>\n",
       "<style scoped>\n",
       "    .dataframe tbody tr th:only-of-type {\n",
       "        vertical-align: middle;\n",
       "    }\n",
       "\n",
       "    .dataframe tbody tr th {\n",
       "        vertical-align: top;\n",
       "    }\n",
       "\n",
       "    .dataframe thead th {\n",
       "        text-align: right;\n",
       "    }\n",
       "</style>\n",
       "<table border=\"1\" class=\"dataframe\">\n",
       "  <thead>\n",
       "    <tr style=\"text-align: right;\">\n",
       "      <th></th>\n",
       "      <th>node</th>\n",
       "      <th>label</th>\n",
       "      <th>source</th>\n",
       "      <th>target</th>\n",
       "      <th>value</th>\n",
       "      <th>percent</th>\n",
       "      <th>node_color</th>\n",
       "      <th>link_color</th>\n",
       "    </tr>\n",
       "  </thead>\n",
       "  <tbody>\n",
       "    <tr>\n",
       "      <th>0</th>\n",
       "      <td>0</td>\n",
       "      <td>Funding</td>\n",
       "      <td>0</td>\n",
       "      <td>1.0</td>\n",
       "      <td>60.0000</td>\n",
       "      <td>0.60</td>\n",
       "      <td>black</td>\n",
       "      <td>#C0C0C0</td>\n",
       "    </tr>\n",
       "    <tr>\n",
       "      <th>1</th>\n",
       "      <td>0</td>\n",
       "      <td>Funding</td>\n",
       "      <td>0</td>\n",
       "      <td>2.0</td>\n",
       "      <td>15.0000</td>\n",
       "      <td>0.15</td>\n",
       "      <td>black</td>\n",
       "      <td>#C0C0C0</td>\n",
       "    </tr>\n",
       "    <tr>\n",
       "      <th>2</th>\n",
       "      <td>0</td>\n",
       "      <td>Funding</td>\n",
       "      <td>0</td>\n",
       "      <td>3.0</td>\n",
       "      <td>20.0000</td>\n",
       "      <td>0.20</td>\n",
       "      <td>black</td>\n",
       "      <td>#C0C0C0</td>\n",
       "    </tr>\n",
       "    <tr>\n",
       "      <th>3</th>\n",
       "      <td>0</td>\n",
       "      <td>Funding</td>\n",
       "      <td>0</td>\n",
       "      <td>4.0</td>\n",
       "      <td>5.0000</td>\n",
       "      <td>0.05</td>\n",
       "      <td>black</td>\n",
       "      <td>#C0C0C0</td>\n",
       "    </tr>\n",
       "    <tr>\n",
       "      <th>4</th>\n",
       "      <td>1</td>\n",
       "      <td>Personnel</td>\n",
       "      <td>1</td>\n",
       "      <td>5.0</td>\n",
       "      <td>30.0000</td>\n",
       "      <td>0.50</td>\n",
       "      <td>black</td>\n",
       "      <td>#C0C0C0</td>\n",
       "    </tr>\n",
       "    <tr>\n",
       "      <th>5</th>\n",
       "      <td>1</td>\n",
       "      <td>Personnel</td>\n",
       "      <td>1</td>\n",
       "      <td>6.0</td>\n",
       "      <td>30.0000</td>\n",
       "      <td>0.50</td>\n",
       "      <td>black</td>\n",
       "      <td>#C0C0C0</td>\n",
       "    </tr>\n",
       "    <tr>\n",
       "      <th>6</th>\n",
       "      <td>2</td>\n",
       "      <td>Research Facilities</td>\n",
       "      <td>2</td>\n",
       "      <td>5.0</td>\n",
       "      <td>7.5000</td>\n",
       "      <td>0.50</td>\n",
       "      <td>black</td>\n",
       "      <td>#C0C0C0</td>\n",
       "    </tr>\n",
       "    <tr>\n",
       "      <th>7</th>\n",
       "      <td>2</td>\n",
       "      <td>Research Facilities</td>\n",
       "      <td>2</td>\n",
       "      <td>6.0</td>\n",
       "      <td>7.5000</td>\n",
       "      <td>0.50</td>\n",
       "      <td>black</td>\n",
       "      <td>#C0C0C0</td>\n",
       "    </tr>\n",
       "    <tr>\n",
       "      <th>8</th>\n",
       "      <td>3</td>\n",
       "      <td>Research Supplies</td>\n",
       "      <td>3</td>\n",
       "      <td>5.0</td>\n",
       "      <td>10.0000</td>\n",
       "      <td>0.50</td>\n",
       "      <td>black</td>\n",
       "      <td>#C0C0C0</td>\n",
       "    </tr>\n",
       "    <tr>\n",
       "      <th>9</th>\n",
       "      <td>3</td>\n",
       "      <td>Research Supplies</td>\n",
       "      <td>3</td>\n",
       "      <td>6.0</td>\n",
       "      <td>10.0000</td>\n",
       "      <td>0.50</td>\n",
       "      <td>black</td>\n",
       "      <td>#C0C0C0</td>\n",
       "    </tr>\n",
       "    <tr>\n",
       "      <th>10</th>\n",
       "      <td>4</td>\n",
       "      <td>Travel</td>\n",
       "      <td>4</td>\n",
       "      <td>14.0</td>\n",
       "      <td>5.0000</td>\n",
       "      <td>1.00</td>\n",
       "      <td>black</td>\n",
       "      <td>#f7bfad</td>\n",
       "    </tr>\n",
       "    <tr>\n",
       "      <th>11</th>\n",
       "      <td>5</td>\n",
       "      <td>Aim 1</td>\n",
       "      <td>5</td>\n",
       "      <td>7.0</td>\n",
       "      <td>15.6750</td>\n",
       "      <td>0.33</td>\n",
       "      <td>#c44d76</td>\n",
       "      <td>#fac8d9</td>\n",
       "    </tr>\n",
       "    <tr>\n",
       "      <th>12</th>\n",
       "      <td>5</td>\n",
       "      <td>Aim 1</td>\n",
       "      <td>5</td>\n",
       "      <td>8.0</td>\n",
       "      <td>15.6750</td>\n",
       "      <td>0.33</td>\n",
       "      <td>#c44d76</td>\n",
       "      <td>#fac8d9</td>\n",
       "    </tr>\n",
       "    <tr>\n",
       "      <th>13</th>\n",
       "      <td>5</td>\n",
       "      <td>Aim 1</td>\n",
       "      <td>5</td>\n",
       "      <td>9.0</td>\n",
       "      <td>15.6750</td>\n",
       "      <td>0.33</td>\n",
       "      <td>#c44d76</td>\n",
       "      <td>#fac8d9</td>\n",
       "    </tr>\n",
       "    <tr>\n",
       "      <th>14</th>\n",
       "      <td>6</td>\n",
       "      <td>Aim 2</td>\n",
       "      <td>6</td>\n",
       "      <td>10.0</td>\n",
       "      <td>33.2500</td>\n",
       "      <td>0.70</td>\n",
       "      <td>#4457a5</td>\n",
       "      <td>#bdc7f2</td>\n",
       "    </tr>\n",
       "    <tr>\n",
       "      <th>15</th>\n",
       "      <td>6</td>\n",
       "      <td>Aim 2</td>\n",
       "      <td>6</td>\n",
       "      <td>11.0</td>\n",
       "      <td>14.2500</td>\n",
       "      <td>0.30</td>\n",
       "      <td>#4457a5</td>\n",
       "      <td>#bdc7f2</td>\n",
       "    </tr>\n",
       "    <tr>\n",
       "      <th>16</th>\n",
       "      <td>7</td>\n",
       "      <td>SV analysis</td>\n",
       "      <td>7</td>\n",
       "      <td>13.0</td>\n",
       "      <td>14.1075</td>\n",
       "      <td>0.90</td>\n",
       "      <td>#c44d76</td>\n",
       "      <td>#fac8d9</td>\n",
       "    </tr>\n",
       "    <tr>\n",
       "      <th>17</th>\n",
       "      <td>7</td>\n",
       "      <td>SV analysis</td>\n",
       "      <td>7</td>\n",
       "      <td>14.0</td>\n",
       "      <td>1.5675</td>\n",
       "      <td>0.10</td>\n",
       "      <td>#c44d76</td>\n",
       "      <td>#fac8d9</td>\n",
       "    </tr>\n",
       "    <tr>\n",
       "      <th>18</th>\n",
       "      <td>8</td>\n",
       "      <td>Coexpression analyisis</td>\n",
       "      <td>8</td>\n",
       "      <td>13.0</td>\n",
       "      <td>14.1075</td>\n",
       "      <td>0.90</td>\n",
       "      <td>#c44d76</td>\n",
       "      <td>#fac8d9</td>\n",
       "    </tr>\n",
       "    <tr>\n",
       "      <th>19</th>\n",
       "      <td>8</td>\n",
       "      <td>Coexpression analyisis</td>\n",
       "      <td>8</td>\n",
       "      <td>14.0</td>\n",
       "      <td>1.5675</td>\n",
       "      <td>0.10</td>\n",
       "      <td>#c44d76</td>\n",
       "      <td>#fac8d9</td>\n",
       "    </tr>\n",
       "    <tr>\n",
       "      <th>20</th>\n",
       "      <td>9</td>\n",
       "      <td>GWAS</td>\n",
       "      <td>9</td>\n",
       "      <td>13.0</td>\n",
       "      <td>14.1075</td>\n",
       "      <td>0.90</td>\n",
       "      <td>#c44d76</td>\n",
       "      <td>#fac8d9</td>\n",
       "    </tr>\n",
       "    <tr>\n",
       "      <th>21</th>\n",
       "      <td>9</td>\n",
       "      <td>GWAS</td>\n",
       "      <td>9</td>\n",
       "      <td>14.0</td>\n",
       "      <td>1.5675</td>\n",
       "      <td>0.10</td>\n",
       "      <td>#c44d76</td>\n",
       "      <td>#fac8d9</td>\n",
       "    </tr>\n",
       "    <tr>\n",
       "      <th>22</th>\n",
       "      <td>10</td>\n",
       "      <td>Faba bean regeneration</td>\n",
       "      <td>10</td>\n",
       "      <td>12.0</td>\n",
       "      <td>29.9250</td>\n",
       "      <td>0.90</td>\n",
       "      <td>#4457a5</td>\n",
       "      <td>#bdc7f2</td>\n",
       "    </tr>\n",
       "    <tr>\n",
       "      <th>23</th>\n",
       "      <td>10</td>\n",
       "      <td>Faba bean regeneration</td>\n",
       "      <td>10</td>\n",
       "      <td>14.0</td>\n",
       "      <td>3.3250</td>\n",
       "      <td>0.10</td>\n",
       "      <td>#4457a5</td>\n",
       "      <td>#bdc7f2</td>\n",
       "    </tr>\n",
       "    <tr>\n",
       "      <th>24</th>\n",
       "      <td>11</td>\n",
       "      <td>Functional analysis</td>\n",
       "      <td>11</td>\n",
       "      <td>13.0</td>\n",
       "      <td>12.8250</td>\n",
       "      <td>0.90</td>\n",
       "      <td>#4457a5</td>\n",
       "      <td>#bdc7f2</td>\n",
       "    </tr>\n",
       "    <tr>\n",
       "      <th>25</th>\n",
       "      <td>11</td>\n",
       "      <td>Functional analysis</td>\n",
       "      <td>11</td>\n",
       "      <td>14.0</td>\n",
       "      <td>1.4250</td>\n",
       "      <td>0.10</td>\n",
       "      <td>#4457a5</td>\n",
       "      <td>#bdc7f2</td>\n",
       "    </tr>\n",
       "    <tr>\n",
       "      <th>26</th>\n",
       "      <td>12</td>\n",
       "      <td>Hedin/2 regeneration publication</td>\n",
       "      <td>12</td>\n",
       "      <td>NaN</td>\n",
       "      <td>NaN</td>\n",
       "      <td>NaN</td>\n",
       "      <td>#4457a5</td>\n",
       "      <td>#bdc7f2</td>\n",
       "    </tr>\n",
       "    <tr>\n",
       "      <th>27</th>\n",
       "      <td>13</td>\n",
       "      <td>Vicine/convicine publication</td>\n",
       "      <td>13</td>\n",
       "      <td>NaN</td>\n",
       "      <td>NaN</td>\n",
       "      <td>NaN</td>\n",
       "      <td>#c44d76</td>\n",
       "      <td>#fac8d9</td>\n",
       "    </tr>\n",
       "    <tr>\n",
       "      <th>28</th>\n",
       "      <td>14</td>\n",
       "      <td>Conference presentation</td>\n",
       "      <td>14</td>\n",
       "      <td>NaN</td>\n",
       "      <td>NaN</td>\n",
       "      <td>NaN</td>\n",
       "      <td>#b24422</td>\n",
       "      <td>#f7bfad</td>\n",
       "    </tr>\n",
       "  </tbody>\n",
       "</table>\n",
       "</div>"
      ],
      "text/plain": [
       "    node                              label  source  target    value  percent  \\\n",
       "0      0                            Funding       0     1.0  60.0000     0.60   \n",
       "1      0                            Funding       0     2.0  15.0000     0.15   \n",
       "2      0                            Funding       0     3.0  20.0000     0.20   \n",
       "3      0                            Funding       0     4.0   5.0000     0.05   \n",
       "4      1                          Personnel       1     5.0  30.0000     0.50   \n",
       "5      1                          Personnel       1     6.0  30.0000     0.50   \n",
       "6      2                Research Facilities       2     5.0   7.5000     0.50   \n",
       "7      2                Research Facilities       2     6.0   7.5000     0.50   \n",
       "8      3                  Research Supplies       3     5.0  10.0000     0.50   \n",
       "9      3                  Research Supplies       3     6.0  10.0000     0.50   \n",
       "10     4                             Travel       4    14.0   5.0000     1.00   \n",
       "11     5                              Aim 1       5     7.0  15.6750     0.33   \n",
       "12     5                              Aim 1       5     8.0  15.6750     0.33   \n",
       "13     5                              Aim 1       5     9.0  15.6750     0.33   \n",
       "14     6                              Aim 2       6    10.0  33.2500     0.70   \n",
       "15     6                              Aim 2       6    11.0  14.2500     0.30   \n",
       "16     7                        SV analysis       7    13.0  14.1075     0.90   \n",
       "17     7                        SV analysis       7    14.0   1.5675     0.10   \n",
       "18     8             Coexpression analyisis       8    13.0  14.1075     0.90   \n",
       "19     8             Coexpression analyisis       8    14.0   1.5675     0.10   \n",
       "20     9                               GWAS       9    13.0  14.1075     0.90   \n",
       "21     9                               GWAS       9    14.0   1.5675     0.10   \n",
       "22    10            Faba bean regeneration       10    12.0  29.9250     0.90   \n",
       "23    10            Faba bean regeneration       10    14.0   3.3250     0.10   \n",
       "24    11                Functional analysis      11    13.0  12.8250     0.90   \n",
       "25    11                Functional analysis      11    14.0   1.4250     0.10   \n",
       "26    12  Hedin/2 regeneration publication       12     NaN      NaN      NaN   \n",
       "27    13       Vicine/convicine publication      13     NaN      NaN      NaN   \n",
       "28    14           Conference presentation       14     NaN      NaN      NaN   \n",
       "\n",
       "   node_color link_color  \n",
       "0       black    #C0C0C0  \n",
       "1       black    #C0C0C0  \n",
       "2       black    #C0C0C0  \n",
       "3       black    #C0C0C0  \n",
       "4       black    #C0C0C0  \n",
       "5       black    #C0C0C0  \n",
       "6       black    #C0C0C0  \n",
       "7       black    #C0C0C0  \n",
       "8       black    #C0C0C0  \n",
       "9       black    #C0C0C0  \n",
       "10      black    #f7bfad  \n",
       "11    #c44d76    #fac8d9  \n",
       "12    #c44d76    #fac8d9  \n",
       "13    #c44d76    #fac8d9  \n",
       "14    #4457a5    #bdc7f2  \n",
       "15    #4457a5    #bdc7f2  \n",
       "16    #c44d76    #fac8d9  \n",
       "17    #c44d76    #fac8d9  \n",
       "18    #c44d76    #fac8d9  \n",
       "19    #c44d76    #fac8d9  \n",
       "20    #c44d76    #fac8d9  \n",
       "21    #c44d76    #fac8d9  \n",
       "22    #4457a5    #bdc7f2  \n",
       "23    #4457a5    #bdc7f2  \n",
       "24    #4457a5    #bdc7f2  \n",
       "25    #4457a5    #bdc7f2  \n",
       "26    #4457a5    #bdc7f2  \n",
       "27    #c44d76    #fac8d9  \n",
       "28    #b24422    #f7bfad  "
      ]
     },
     "execution_count": 4,
     "metadata": {},
     "output_type": "execute_result"
    }
   ],
   "source": [
    "logic = pd.read_excel('logic_model.xls') \n",
    "logic"
   ]
  },
  {
   "cell_type": "code",
   "execution_count": 5,
   "metadata": {},
   "outputs": [],
   "source": [
    "#list for plot inputs\n",
    "logic_label = logic['label'].drop_duplicates().tolist() \n",
    "logic_source = logic['source'].tolist() \n",
    "logic_target = logic['target'].tolist() \n",
    "logic_value= logic['value'].tolist() \n",
    "logic_color= logic.drop_duplicates(subset=['node'], keep=\"first\")\n",
    "logic_node_color=logic_color['node_color'].tolist()\n",
    "logic_link_color=logic['link_color'].tolist()\n"
   ]
  },
  {
   "attachments": {},
   "cell_type": "markdown",
   "metadata": {},
   "source": [
    "> I absolutely hate that the node label text has a white shaddow that's not removable. I'm going to just add those labels manually"
   ]
  },
  {
   "cell_type": "code",
   "execution_count": 14,
   "metadata": {},
   "outputs": [
    {
     "data": {
      "application/vnd.plotly.v1+json": {
       "config": {
        "plotlyServerURL": "https://plot.ly"
       },
       "data": [
        {
         "link": {
          "color": [
           "#C0C0C0",
           "#C0C0C0",
           "#C0C0C0",
           "#C0C0C0",
           "#C0C0C0",
           "#C0C0C0",
           "#C0C0C0",
           "#C0C0C0",
           "#C0C0C0",
           "#C0C0C0",
           "#f7bfad",
           "#fac8d9",
           "#fac8d9",
           "#fac8d9",
           "#bdc7f2",
           "#bdc7f2",
           "#fac8d9",
           "#fac8d9",
           "#fac8d9",
           "#fac8d9",
           "#fac8d9",
           "#fac8d9",
           "#bdc7f2",
           "#bdc7f2",
           "#bdc7f2",
           "#bdc7f2",
           "#bdc7f2",
           "#fac8d9",
           "#f7bfad"
          ],
          "source": [
           0,
           0,
           0,
           0,
           1,
           1,
           2,
           2,
           3,
           3,
           4,
           5,
           5,
           5,
           6,
           6,
           7,
           7,
           8,
           8,
           9,
           9,
           10,
           10,
           11,
           11,
           12,
           13,
           14
          ],
          "target": [
           1,
           2,
           3,
           4,
           5,
           6,
           5,
           6,
           5,
           6,
           14,
           7,
           8,
           9,
           10,
           11,
           13,
           14,
           13,
           14,
           13,
           14,
           12,
           14,
           13,
           14,
           null,
           null,
           null
          ],
          "value": [
           60,
           15,
           20,
           5,
           30,
           30,
           7.5,
           7.5,
           10,
           10,
           5,
           15.675,
           15.675,
           15.675,
           33.25,
           14.25,
           14.107500000000002,
           1.5675000000000001,
           14.107500000000002,
           1.5675000000000001,
           14.107500000000002,
           1.5675000000000001,
           29.925,
           3.325,
           12.825000000000001,
           1.425,
           null,
           null,
           null
          ]
         },
         "node": {
          "color": [
           "black",
           "black",
           "black",
           "black",
           "black",
           "#c44d76",
           "#4457a5",
           "#c44d76",
           "#c44d76",
           "#c44d76",
           "#4457a5",
           "#4457a5",
           "#4457a5",
           "#c44d76",
           "#b24422"
          ],
          "line": {
           "color": "white",
           "width": 0.5
          },
          "pad": 20,
          "thickness": 50
         },
         "orientation": "v",
         "textfont": {
          "color": "black",
          "family": "Open Sans",
          "size": 12
         },
         "type": "sankey"
        }
       ],
       "layout": {
        "autosize": false,
        "font": {
         "color": "black",
         "size": 30
        },
        "height": 1500,
        "margin": {
         "b": 100,
         "l": 50,
         "pad": 4,
         "r": 50,
         "t": 100
        },
        "plot_bgcolor": "rgba(0,0,0,0)",
        "template": {
         "data": {
          "bar": [
           {
            "error_x": {
             "color": "#2a3f5f"
            },
            "error_y": {
             "color": "#2a3f5f"
            },
            "marker": {
             "line": {
              "color": "#E5ECF6",
              "width": 0.5
             },
             "pattern": {
              "fillmode": "overlay",
              "size": 10,
              "solidity": 0.2
             }
            },
            "type": "bar"
           }
          ],
          "barpolar": [
           {
            "marker": {
             "line": {
              "color": "#E5ECF6",
              "width": 0.5
             },
             "pattern": {
              "fillmode": "overlay",
              "size": 10,
              "solidity": 0.2
             }
            },
            "type": "barpolar"
           }
          ],
          "carpet": [
           {
            "aaxis": {
             "endlinecolor": "#2a3f5f",
             "gridcolor": "white",
             "linecolor": "white",
             "minorgridcolor": "white",
             "startlinecolor": "#2a3f5f"
            },
            "baxis": {
             "endlinecolor": "#2a3f5f",
             "gridcolor": "white",
             "linecolor": "white",
             "minorgridcolor": "white",
             "startlinecolor": "#2a3f5f"
            },
            "type": "carpet"
           }
          ],
          "choropleth": [
           {
            "colorbar": {
             "outlinewidth": 0,
             "ticks": ""
            },
            "type": "choropleth"
           }
          ],
          "contour": [
           {
            "colorbar": {
             "outlinewidth": 0,
             "ticks": ""
            },
            "colorscale": [
             [
              0,
              "#0d0887"
             ],
             [
              0.1111111111111111,
              "#46039f"
             ],
             [
              0.2222222222222222,
              "#7201a8"
             ],
             [
              0.3333333333333333,
              "#9c179e"
             ],
             [
              0.4444444444444444,
              "#bd3786"
             ],
             [
              0.5555555555555556,
              "#d8576b"
             ],
             [
              0.6666666666666666,
              "#ed7953"
             ],
             [
              0.7777777777777778,
              "#fb9f3a"
             ],
             [
              0.8888888888888888,
              "#fdca26"
             ],
             [
              1,
              "#f0f921"
             ]
            ],
            "type": "contour"
           }
          ],
          "contourcarpet": [
           {
            "colorbar": {
             "outlinewidth": 0,
             "ticks": ""
            },
            "type": "contourcarpet"
           }
          ],
          "heatmap": [
           {
            "colorbar": {
             "outlinewidth": 0,
             "ticks": ""
            },
            "colorscale": [
             [
              0,
              "#0d0887"
             ],
             [
              0.1111111111111111,
              "#46039f"
             ],
             [
              0.2222222222222222,
              "#7201a8"
             ],
             [
              0.3333333333333333,
              "#9c179e"
             ],
             [
              0.4444444444444444,
              "#bd3786"
             ],
             [
              0.5555555555555556,
              "#d8576b"
             ],
             [
              0.6666666666666666,
              "#ed7953"
             ],
             [
              0.7777777777777778,
              "#fb9f3a"
             ],
             [
              0.8888888888888888,
              "#fdca26"
             ],
             [
              1,
              "#f0f921"
             ]
            ],
            "type": "heatmap"
           }
          ],
          "heatmapgl": [
           {
            "colorbar": {
             "outlinewidth": 0,
             "ticks": ""
            },
            "colorscale": [
             [
              0,
              "#0d0887"
             ],
             [
              0.1111111111111111,
              "#46039f"
             ],
             [
              0.2222222222222222,
              "#7201a8"
             ],
             [
              0.3333333333333333,
              "#9c179e"
             ],
             [
              0.4444444444444444,
              "#bd3786"
             ],
             [
              0.5555555555555556,
              "#d8576b"
             ],
             [
              0.6666666666666666,
              "#ed7953"
             ],
             [
              0.7777777777777778,
              "#fb9f3a"
             ],
             [
              0.8888888888888888,
              "#fdca26"
             ],
             [
              1,
              "#f0f921"
             ]
            ],
            "type": "heatmapgl"
           }
          ],
          "histogram": [
           {
            "marker": {
             "pattern": {
              "fillmode": "overlay",
              "size": 10,
              "solidity": 0.2
             }
            },
            "type": "histogram"
           }
          ],
          "histogram2d": [
           {
            "colorbar": {
             "outlinewidth": 0,
             "ticks": ""
            },
            "colorscale": [
             [
              0,
              "#0d0887"
             ],
             [
              0.1111111111111111,
              "#46039f"
             ],
             [
              0.2222222222222222,
              "#7201a8"
             ],
             [
              0.3333333333333333,
              "#9c179e"
             ],
             [
              0.4444444444444444,
              "#bd3786"
             ],
             [
              0.5555555555555556,
              "#d8576b"
             ],
             [
              0.6666666666666666,
              "#ed7953"
             ],
             [
              0.7777777777777778,
              "#fb9f3a"
             ],
             [
              0.8888888888888888,
              "#fdca26"
             ],
             [
              1,
              "#f0f921"
             ]
            ],
            "type": "histogram2d"
           }
          ],
          "histogram2dcontour": [
           {
            "colorbar": {
             "outlinewidth": 0,
             "ticks": ""
            },
            "colorscale": [
             [
              0,
              "#0d0887"
             ],
             [
              0.1111111111111111,
              "#46039f"
             ],
             [
              0.2222222222222222,
              "#7201a8"
             ],
             [
              0.3333333333333333,
              "#9c179e"
             ],
             [
              0.4444444444444444,
              "#bd3786"
             ],
             [
              0.5555555555555556,
              "#d8576b"
             ],
             [
              0.6666666666666666,
              "#ed7953"
             ],
             [
              0.7777777777777778,
              "#fb9f3a"
             ],
             [
              0.8888888888888888,
              "#fdca26"
             ],
             [
              1,
              "#f0f921"
             ]
            ],
            "type": "histogram2dcontour"
           }
          ],
          "mesh3d": [
           {
            "colorbar": {
             "outlinewidth": 0,
             "ticks": ""
            },
            "type": "mesh3d"
           }
          ],
          "parcoords": [
           {
            "line": {
             "colorbar": {
              "outlinewidth": 0,
              "ticks": ""
             }
            },
            "type": "parcoords"
           }
          ],
          "pie": [
           {
            "automargin": true,
            "type": "pie"
           }
          ],
          "scatter": [
           {
            "fillpattern": {
             "fillmode": "overlay",
             "size": 10,
             "solidity": 0.2
            },
            "type": "scatter"
           }
          ],
          "scatter3d": [
           {
            "line": {
             "colorbar": {
              "outlinewidth": 0,
              "ticks": ""
             }
            },
            "marker": {
             "colorbar": {
              "outlinewidth": 0,
              "ticks": ""
             }
            },
            "type": "scatter3d"
           }
          ],
          "scattercarpet": [
           {
            "marker": {
             "colorbar": {
              "outlinewidth": 0,
              "ticks": ""
             }
            },
            "type": "scattercarpet"
           }
          ],
          "scattergeo": [
           {
            "marker": {
             "colorbar": {
              "outlinewidth": 0,
              "ticks": ""
             }
            },
            "type": "scattergeo"
           }
          ],
          "scattergl": [
           {
            "marker": {
             "colorbar": {
              "outlinewidth": 0,
              "ticks": ""
             }
            },
            "type": "scattergl"
           }
          ],
          "scattermapbox": [
           {
            "marker": {
             "colorbar": {
              "outlinewidth": 0,
              "ticks": ""
             }
            },
            "type": "scattermapbox"
           }
          ],
          "scatterpolar": [
           {
            "marker": {
             "colorbar": {
              "outlinewidth": 0,
              "ticks": ""
             }
            },
            "type": "scatterpolar"
           }
          ],
          "scatterpolargl": [
           {
            "marker": {
             "colorbar": {
              "outlinewidth": 0,
              "ticks": ""
             }
            },
            "type": "scatterpolargl"
           }
          ],
          "scatterternary": [
           {
            "marker": {
             "colorbar": {
              "outlinewidth": 0,
              "ticks": ""
             }
            },
            "type": "scatterternary"
           }
          ],
          "surface": [
           {
            "colorbar": {
             "outlinewidth": 0,
             "ticks": ""
            },
            "colorscale": [
             [
              0,
              "#0d0887"
             ],
             [
              0.1111111111111111,
              "#46039f"
             ],
             [
              0.2222222222222222,
              "#7201a8"
             ],
             [
              0.3333333333333333,
              "#9c179e"
             ],
             [
              0.4444444444444444,
              "#bd3786"
             ],
             [
              0.5555555555555556,
              "#d8576b"
             ],
             [
              0.6666666666666666,
              "#ed7953"
             ],
             [
              0.7777777777777778,
              "#fb9f3a"
             ],
             [
              0.8888888888888888,
              "#fdca26"
             ],
             [
              1,
              "#f0f921"
             ]
            ],
            "type": "surface"
           }
          ],
          "table": [
           {
            "cells": {
             "fill": {
              "color": "#EBF0F8"
             },
             "line": {
              "color": "white"
             }
            },
            "header": {
             "fill": {
              "color": "#C8D4E3"
             },
             "line": {
              "color": "white"
             }
            },
            "type": "table"
           }
          ]
         },
         "layout": {
          "annotationdefaults": {
           "arrowcolor": "#2a3f5f",
           "arrowhead": 0,
           "arrowwidth": 1
          },
          "autotypenumbers": "strict",
          "coloraxis": {
           "colorbar": {
            "outlinewidth": 0,
            "ticks": ""
           }
          },
          "colorscale": {
           "diverging": [
            [
             0,
             "#8e0152"
            ],
            [
             0.1,
             "#c51b7d"
            ],
            [
             0.2,
             "#de77ae"
            ],
            [
             0.3,
             "#f1b6da"
            ],
            [
             0.4,
             "#fde0ef"
            ],
            [
             0.5,
             "#f7f7f7"
            ],
            [
             0.6,
             "#e6f5d0"
            ],
            [
             0.7,
             "#b8e186"
            ],
            [
             0.8,
             "#7fbc41"
            ],
            [
             0.9,
             "#4d9221"
            ],
            [
             1,
             "#276419"
            ]
           ],
           "sequential": [
            [
             0,
             "#0d0887"
            ],
            [
             0.1111111111111111,
             "#46039f"
            ],
            [
             0.2222222222222222,
             "#7201a8"
            ],
            [
             0.3333333333333333,
             "#9c179e"
            ],
            [
             0.4444444444444444,
             "#bd3786"
            ],
            [
             0.5555555555555556,
             "#d8576b"
            ],
            [
             0.6666666666666666,
             "#ed7953"
            ],
            [
             0.7777777777777778,
             "#fb9f3a"
            ],
            [
             0.8888888888888888,
             "#fdca26"
            ],
            [
             1,
             "#f0f921"
            ]
           ],
           "sequentialminus": [
            [
             0,
             "#0d0887"
            ],
            [
             0.1111111111111111,
             "#46039f"
            ],
            [
             0.2222222222222222,
             "#7201a8"
            ],
            [
             0.3333333333333333,
             "#9c179e"
            ],
            [
             0.4444444444444444,
             "#bd3786"
            ],
            [
             0.5555555555555556,
             "#d8576b"
            ],
            [
             0.6666666666666666,
             "#ed7953"
            ],
            [
             0.7777777777777778,
             "#fb9f3a"
            ],
            [
             0.8888888888888888,
             "#fdca26"
            ],
            [
             1,
             "#f0f921"
            ]
           ]
          },
          "colorway": [
           "#636efa",
           "#EF553B",
           "#00cc96",
           "#ab63fa",
           "#FFA15A",
           "#19d3f3",
           "#FF6692",
           "#B6E880",
           "#FF97FF",
           "#FECB52"
          ],
          "font": {
           "color": "#2a3f5f"
          },
          "geo": {
           "bgcolor": "white",
           "lakecolor": "white",
           "landcolor": "#E5ECF6",
           "showlakes": true,
           "showland": true,
           "subunitcolor": "white"
          },
          "hoverlabel": {
           "align": "left"
          },
          "hovermode": "closest",
          "mapbox": {
           "style": "light"
          },
          "paper_bgcolor": "white",
          "plot_bgcolor": "#E5ECF6",
          "polar": {
           "angularaxis": {
            "gridcolor": "white",
            "linecolor": "white",
            "ticks": ""
           },
           "bgcolor": "#E5ECF6",
           "radialaxis": {
            "gridcolor": "white",
            "linecolor": "white",
            "ticks": ""
           }
          },
          "scene": {
           "xaxis": {
            "backgroundcolor": "#E5ECF6",
            "gridcolor": "white",
            "gridwidth": 2,
            "linecolor": "white",
            "showbackground": true,
            "ticks": "",
            "zerolinecolor": "white"
           },
           "yaxis": {
            "backgroundcolor": "#E5ECF6",
            "gridcolor": "white",
            "gridwidth": 2,
            "linecolor": "white",
            "showbackground": true,
            "ticks": "",
            "zerolinecolor": "white"
           },
           "zaxis": {
            "backgroundcolor": "#E5ECF6",
            "gridcolor": "white",
            "gridwidth": 2,
            "linecolor": "white",
            "showbackground": true,
            "ticks": "",
            "zerolinecolor": "white"
           }
          },
          "shapedefaults": {
           "line": {
            "color": "#2a3f5f"
           }
          },
          "ternary": {
           "aaxis": {
            "gridcolor": "white",
            "linecolor": "white",
            "ticks": ""
           },
           "baxis": {
            "gridcolor": "white",
            "linecolor": "white",
            "ticks": ""
           },
           "bgcolor": "#E5ECF6",
           "caxis": {
            "gridcolor": "white",
            "linecolor": "white",
            "ticks": ""
           }
          },
          "title": {
           "x": 0.05
          },
          "xaxis": {
           "automargin": true,
           "gridcolor": "white",
           "linecolor": "white",
           "ticks": "",
           "title": {
            "standoff": 15
           },
           "zerolinecolor": "white",
           "zerolinewidth": 2
          },
          "yaxis": {
           "automargin": true,
           "gridcolor": "white",
           "linecolor": "white",
           "ticks": "",
           "title": {
            "standoff": 15
           },
           "zerolinecolor": "white",
           "zerolinewidth": 2
          }
         }
        },
        "title": {
         "text": "Research Proposal Overview"
        },
        "width": 1200,
        "xaxis": {
         "showgrid": false,
         "visible": false,
         "zeroline": false
        },
        "yaxis": {
         "showgrid": false,
         "visible": false,
         "zeroline": false
        }
       }
      },
      "text/html": [
       "<div>                            <div id=\"2db6bece-90e2-4baf-885a-45b041b49f46\" class=\"plotly-graph-div\" style=\"height:1500px; width:1200px;\"></div>            <script type=\"text/javascript\">                require([\"plotly\"], function(Plotly) {                    window.PLOTLYENV=window.PLOTLYENV || {};                                    if (document.getElementById(\"2db6bece-90e2-4baf-885a-45b041b49f46\")) {                    Plotly.newPlot(                        \"2db6bece-90e2-4baf-885a-45b041b49f46\",                        [{\"link\":{\"source\":[0,0,0,0,1,1,2,2,3,3,4,5,5,5,6,6,7,7,8,8,9,9,10,10,11,11,12,13,14],\"target\":[1.0,2.0,3.0,4.0,5.0,6.0,5.0,6.0,5.0,6.0,14.0,7.0,8.0,9.0,10.0,11.0,13.0,14.0,13.0,14.0,13.0,14.0,12.0,14.0,13.0,14.0,null,null,null],\"value\":[60.0,15.0,20.0,5.0,30.0,30.0,7.5,7.5,10.0,10.0,5.0,15.675,15.675,15.675,33.25,14.25,14.107500000000002,1.5675000000000001,14.107500000000002,1.5675000000000001,14.107500000000002,1.5675000000000001,29.925,3.325,12.825000000000001,1.425,null,null,null],\"color\":[\"#C0C0C0\",\"#C0C0C0\",\"#C0C0C0\",\"#C0C0C0\",\"#C0C0C0\",\"#C0C0C0\",\"#C0C0C0\",\"#C0C0C0\",\"#C0C0C0\",\"#C0C0C0\",\"#f7bfad\",\"#fac8d9\",\"#fac8d9\",\"#fac8d9\",\"#bdc7f2\",\"#bdc7f2\",\"#fac8d9\",\"#fac8d9\",\"#fac8d9\",\"#fac8d9\",\"#fac8d9\",\"#fac8d9\",\"#bdc7f2\",\"#bdc7f2\",\"#bdc7f2\",\"#bdc7f2\",\"#bdc7f2\",\"#fac8d9\",\"#f7bfad\"]},\"node\":{\"color\":[\"black\",\"black\",\"black\",\"black\",\"black\",\"#c44d76\",\"#4457a5\",\"#c44d76\",\"#c44d76\",\"#c44d76\",\"#4457a5\",\"#4457a5\",\"#4457a5\",\"#c44d76\",\"#b24422\"],\"line\":{\"color\":\"white\",\"width\":0.5},\"pad\":20,\"thickness\":50},\"orientation\":\"v\",\"textfont\":{\"color\":\"black\",\"size\":12,\"family\":\"Open Sans\"},\"type\":\"sankey\"}],                        {\"template\":{\"data\":{\"histogram2dcontour\":[{\"type\":\"histogram2dcontour\",\"colorbar\":{\"outlinewidth\":0,\"ticks\":\"\"},\"colorscale\":[[0.0,\"#0d0887\"],[0.1111111111111111,\"#46039f\"],[0.2222222222222222,\"#7201a8\"],[0.3333333333333333,\"#9c179e\"],[0.4444444444444444,\"#bd3786\"],[0.5555555555555556,\"#d8576b\"],[0.6666666666666666,\"#ed7953\"],[0.7777777777777778,\"#fb9f3a\"],[0.8888888888888888,\"#fdca26\"],[1.0,\"#f0f921\"]]}],\"choropleth\":[{\"type\":\"choropleth\",\"colorbar\":{\"outlinewidth\":0,\"ticks\":\"\"}}],\"histogram2d\":[{\"type\":\"histogram2d\",\"colorbar\":{\"outlinewidth\":0,\"ticks\":\"\"},\"colorscale\":[[0.0,\"#0d0887\"],[0.1111111111111111,\"#46039f\"],[0.2222222222222222,\"#7201a8\"],[0.3333333333333333,\"#9c179e\"],[0.4444444444444444,\"#bd3786\"],[0.5555555555555556,\"#d8576b\"],[0.6666666666666666,\"#ed7953\"],[0.7777777777777778,\"#fb9f3a\"],[0.8888888888888888,\"#fdca26\"],[1.0,\"#f0f921\"]]}],\"heatmap\":[{\"type\":\"heatmap\",\"colorbar\":{\"outlinewidth\":0,\"ticks\":\"\"},\"colorscale\":[[0.0,\"#0d0887\"],[0.1111111111111111,\"#46039f\"],[0.2222222222222222,\"#7201a8\"],[0.3333333333333333,\"#9c179e\"],[0.4444444444444444,\"#bd3786\"],[0.5555555555555556,\"#d8576b\"],[0.6666666666666666,\"#ed7953\"],[0.7777777777777778,\"#fb9f3a\"],[0.8888888888888888,\"#fdca26\"],[1.0,\"#f0f921\"]]}],\"heatmapgl\":[{\"type\":\"heatmapgl\",\"colorbar\":{\"outlinewidth\":0,\"ticks\":\"\"},\"colorscale\":[[0.0,\"#0d0887\"],[0.1111111111111111,\"#46039f\"],[0.2222222222222222,\"#7201a8\"],[0.3333333333333333,\"#9c179e\"],[0.4444444444444444,\"#bd3786\"],[0.5555555555555556,\"#d8576b\"],[0.6666666666666666,\"#ed7953\"],[0.7777777777777778,\"#fb9f3a\"],[0.8888888888888888,\"#fdca26\"],[1.0,\"#f0f921\"]]}],\"contourcarpet\":[{\"type\":\"contourcarpet\",\"colorbar\":{\"outlinewidth\":0,\"ticks\":\"\"}}],\"contour\":[{\"type\":\"contour\",\"colorbar\":{\"outlinewidth\":0,\"ticks\":\"\"},\"colorscale\":[[0.0,\"#0d0887\"],[0.1111111111111111,\"#46039f\"],[0.2222222222222222,\"#7201a8\"],[0.3333333333333333,\"#9c179e\"],[0.4444444444444444,\"#bd3786\"],[0.5555555555555556,\"#d8576b\"],[0.6666666666666666,\"#ed7953\"],[0.7777777777777778,\"#fb9f3a\"],[0.8888888888888888,\"#fdca26\"],[1.0,\"#f0f921\"]]}],\"surface\":[{\"type\":\"surface\",\"colorbar\":{\"outlinewidth\":0,\"ticks\":\"\"},\"colorscale\":[[0.0,\"#0d0887\"],[0.1111111111111111,\"#46039f\"],[0.2222222222222222,\"#7201a8\"],[0.3333333333333333,\"#9c179e\"],[0.4444444444444444,\"#bd3786\"],[0.5555555555555556,\"#d8576b\"],[0.6666666666666666,\"#ed7953\"],[0.7777777777777778,\"#fb9f3a\"],[0.8888888888888888,\"#fdca26\"],[1.0,\"#f0f921\"]]}],\"mesh3d\":[{\"type\":\"mesh3d\",\"colorbar\":{\"outlinewidth\":0,\"ticks\":\"\"}}],\"scatter\":[{\"fillpattern\":{\"fillmode\":\"overlay\",\"size\":10,\"solidity\":0.2},\"type\":\"scatter\"}],\"parcoords\":[{\"type\":\"parcoords\",\"line\":{\"colorbar\":{\"outlinewidth\":0,\"ticks\":\"\"}}}],\"scatterpolargl\":[{\"type\":\"scatterpolargl\",\"marker\":{\"colorbar\":{\"outlinewidth\":0,\"ticks\":\"\"}}}],\"bar\":[{\"error_x\":{\"color\":\"#2a3f5f\"},\"error_y\":{\"color\":\"#2a3f5f\"},\"marker\":{\"line\":{\"color\":\"#E5ECF6\",\"width\":0.5},\"pattern\":{\"fillmode\":\"overlay\",\"size\":10,\"solidity\":0.2}},\"type\":\"bar\"}],\"scattergeo\":[{\"type\":\"scattergeo\",\"marker\":{\"colorbar\":{\"outlinewidth\":0,\"ticks\":\"\"}}}],\"scatterpolar\":[{\"type\":\"scatterpolar\",\"marker\":{\"colorbar\":{\"outlinewidth\":0,\"ticks\":\"\"}}}],\"histogram\":[{\"marker\":{\"pattern\":{\"fillmode\":\"overlay\",\"size\":10,\"solidity\":0.2}},\"type\":\"histogram\"}],\"scattergl\":[{\"type\":\"scattergl\",\"marker\":{\"colorbar\":{\"outlinewidth\":0,\"ticks\":\"\"}}}],\"scatter3d\":[{\"type\":\"scatter3d\",\"line\":{\"colorbar\":{\"outlinewidth\":0,\"ticks\":\"\"}},\"marker\":{\"colorbar\":{\"outlinewidth\":0,\"ticks\":\"\"}}}],\"scattermapbox\":[{\"type\":\"scattermapbox\",\"marker\":{\"colorbar\":{\"outlinewidth\":0,\"ticks\":\"\"}}}],\"scatterternary\":[{\"type\":\"scatterternary\",\"marker\":{\"colorbar\":{\"outlinewidth\":0,\"ticks\":\"\"}}}],\"scattercarpet\":[{\"type\":\"scattercarpet\",\"marker\":{\"colorbar\":{\"outlinewidth\":0,\"ticks\":\"\"}}}],\"carpet\":[{\"aaxis\":{\"endlinecolor\":\"#2a3f5f\",\"gridcolor\":\"white\",\"linecolor\":\"white\",\"minorgridcolor\":\"white\",\"startlinecolor\":\"#2a3f5f\"},\"baxis\":{\"endlinecolor\":\"#2a3f5f\",\"gridcolor\":\"white\",\"linecolor\":\"white\",\"minorgridcolor\":\"white\",\"startlinecolor\":\"#2a3f5f\"},\"type\":\"carpet\"}],\"table\":[{\"cells\":{\"fill\":{\"color\":\"#EBF0F8\"},\"line\":{\"color\":\"white\"}},\"header\":{\"fill\":{\"color\":\"#C8D4E3\"},\"line\":{\"color\":\"white\"}},\"type\":\"table\"}],\"barpolar\":[{\"marker\":{\"line\":{\"color\":\"#E5ECF6\",\"width\":0.5},\"pattern\":{\"fillmode\":\"overlay\",\"size\":10,\"solidity\":0.2}},\"type\":\"barpolar\"}],\"pie\":[{\"automargin\":true,\"type\":\"pie\"}]},\"layout\":{\"autotypenumbers\":\"strict\",\"colorway\":[\"#636efa\",\"#EF553B\",\"#00cc96\",\"#ab63fa\",\"#FFA15A\",\"#19d3f3\",\"#FF6692\",\"#B6E880\",\"#FF97FF\",\"#FECB52\"],\"font\":{\"color\":\"#2a3f5f\"},\"hovermode\":\"closest\",\"hoverlabel\":{\"align\":\"left\"},\"paper_bgcolor\":\"white\",\"plot_bgcolor\":\"#E5ECF6\",\"polar\":{\"bgcolor\":\"#E5ECF6\",\"angularaxis\":{\"gridcolor\":\"white\",\"linecolor\":\"white\",\"ticks\":\"\"},\"radialaxis\":{\"gridcolor\":\"white\",\"linecolor\":\"white\",\"ticks\":\"\"}},\"ternary\":{\"bgcolor\":\"#E5ECF6\",\"aaxis\":{\"gridcolor\":\"white\",\"linecolor\":\"white\",\"ticks\":\"\"},\"baxis\":{\"gridcolor\":\"white\",\"linecolor\":\"white\",\"ticks\":\"\"},\"caxis\":{\"gridcolor\":\"white\",\"linecolor\":\"white\",\"ticks\":\"\"}},\"coloraxis\":{\"colorbar\":{\"outlinewidth\":0,\"ticks\":\"\"}},\"colorscale\":{\"sequential\":[[0.0,\"#0d0887\"],[0.1111111111111111,\"#46039f\"],[0.2222222222222222,\"#7201a8\"],[0.3333333333333333,\"#9c179e\"],[0.4444444444444444,\"#bd3786\"],[0.5555555555555556,\"#d8576b\"],[0.6666666666666666,\"#ed7953\"],[0.7777777777777778,\"#fb9f3a\"],[0.8888888888888888,\"#fdca26\"],[1.0,\"#f0f921\"]],\"sequentialminus\":[[0.0,\"#0d0887\"],[0.1111111111111111,\"#46039f\"],[0.2222222222222222,\"#7201a8\"],[0.3333333333333333,\"#9c179e\"],[0.4444444444444444,\"#bd3786\"],[0.5555555555555556,\"#d8576b\"],[0.6666666666666666,\"#ed7953\"],[0.7777777777777778,\"#fb9f3a\"],[0.8888888888888888,\"#fdca26\"],[1.0,\"#f0f921\"]],\"diverging\":[[0,\"#8e0152\"],[0.1,\"#c51b7d\"],[0.2,\"#de77ae\"],[0.3,\"#f1b6da\"],[0.4,\"#fde0ef\"],[0.5,\"#f7f7f7\"],[0.6,\"#e6f5d0\"],[0.7,\"#b8e186\"],[0.8,\"#7fbc41\"],[0.9,\"#4d9221\"],[1,\"#276419\"]]},\"xaxis\":{\"gridcolor\":\"white\",\"linecolor\":\"white\",\"ticks\":\"\",\"title\":{\"standoff\":15},\"zerolinecolor\":\"white\",\"automargin\":true,\"zerolinewidth\":2},\"yaxis\":{\"gridcolor\":\"white\",\"linecolor\":\"white\",\"ticks\":\"\",\"title\":{\"standoff\":15},\"zerolinecolor\":\"white\",\"automargin\":true,\"zerolinewidth\":2},\"scene\":{\"xaxis\":{\"backgroundcolor\":\"#E5ECF6\",\"gridcolor\":\"white\",\"linecolor\":\"white\",\"showbackground\":true,\"ticks\":\"\",\"zerolinecolor\":\"white\",\"gridwidth\":2},\"yaxis\":{\"backgroundcolor\":\"#E5ECF6\",\"gridcolor\":\"white\",\"linecolor\":\"white\",\"showbackground\":true,\"ticks\":\"\",\"zerolinecolor\":\"white\",\"gridwidth\":2},\"zaxis\":{\"backgroundcolor\":\"#E5ECF6\",\"gridcolor\":\"white\",\"linecolor\":\"white\",\"showbackground\":true,\"ticks\":\"\",\"zerolinecolor\":\"white\",\"gridwidth\":2}},\"shapedefaults\":{\"line\":{\"color\":\"#2a3f5f\"}},\"annotationdefaults\":{\"arrowcolor\":\"#2a3f5f\",\"arrowhead\":0,\"arrowwidth\":1},\"geo\":{\"bgcolor\":\"white\",\"landcolor\":\"#E5ECF6\",\"subunitcolor\":\"white\",\"showland\":true,\"showlakes\":true,\"lakecolor\":\"white\"},\"title\":{\"x\":0.05},\"mapbox\":{\"style\":\"light\"}}},\"margin\":{\"l\":50,\"r\":50,\"b\":100,\"t\":100,\"pad\":4},\"autosize\":false,\"width\":1200,\"height\":1500,\"title\":{\"text\":\"Research Proposal Overview\"},\"xaxis\":{\"showgrid\":false,\"zeroline\":false,\"visible\":false},\"yaxis\":{\"showgrid\":false,\"zeroline\":false,\"visible\":false},\"font\":{\"color\":\"black\",\"size\":30},\"plot_bgcolor\":\"rgba(0,0,0,0)\"},                        {\"responsive\": true}                    ).then(function(){\n",
       "                            \n",
       "var gd = document.getElementById('2db6bece-90e2-4baf-885a-45b041b49f46');\n",
       "var x = new MutationObserver(function (mutations, observer) {{\n",
       "        var display = window.getComputedStyle(gd).display;\n",
       "        if (!display || display === 'none') {{\n",
       "            console.log([gd, 'removed!']);\n",
       "            Plotly.purge(gd);\n",
       "            observer.disconnect();\n",
       "        }}\n",
       "}});\n",
       "\n",
       "// Listen for the removal of the full notebook cells\n",
       "var notebookContainer = gd.closest('#notebook-container');\n",
       "if (notebookContainer) {{\n",
       "    x.observe(notebookContainer, {childList: true});\n",
       "}}\n",
       "\n",
       "// Listen for the clearing of the current output cell\n",
       "var outputEl = gd.closest('.output');\n",
       "if (outputEl) {{\n",
       "    x.observe(outputEl, {childList: true});\n",
       "}}\n",
       "\n",
       "                        })                };                });            </script>        </div>"
      ]
     },
     "metadata": {},
     "output_type": "display_data"
    }
   ],
   "source": [
    "import plotly.graph_objects as go\n",
    "fig = go.Figure(data=[go.Sankey(\n",
    "    textfont=dict(color=\"rgba(0,0,0,0)\", size=1),\n",
    "    orientation = \"v\",\n",
    "    node = dict(\n",
    "      pad = 20,\n",
    "      thickness = 20,\n",
    "      line = dict(color = \"black\", width = 0.5),\n",
    "      #label = logic_label, #uncomment to see node labels\n",
    "      color = \"black\"\n",
    "    ),\n",
    "    link = dict(\n",
    "      source = logic_source, # indices correspond to labels\n",
    "      target = logic_target,\n",
    "      value = logic_value\n",
    "\n",
    "  ))])\n",
    "\n",
    "layout={\n",
    "      \n",
    "     }\n",
    "\n",
    "\n",
    "fig.update_traces( node_line_color=\"white\",node_color=logic_node_color, link_color = logic_link_color,node_thickness=50,textfont_color=\"black\",textfont_size=12,textfont_family=\"Open Sans\")\n",
    "\n",
    "#change figure sizeing -> 1000x1500 works well for word doc sizing \n",
    "fig.update_layout(\n",
    "    autosize=False,\n",
    "    width=1200,\n",
    "    height=1500,\n",
    "    margin=dict(\n",
    "        l=50,\n",
    "        r=50,\n",
    "        b=100,\n",
    "        t=100,\n",
    "        pad=4\n",
    "    ),\n",
    ")\n",
    "\n",
    "#add column names \n",
    "#for x_coordinate, column_name in enumerate([\"Outcomes\", \"Outputs\",\"Activities\",\"Inputs\", \"\"]):\n",
    "#  fig.add_annotation(\n",
    "#          x=-.05,\n",
    "#          y=x_coordinate,\n",
    "#          xref=\"paper\",\n",
    "#          yref=\"y\",\n",
    "#          text=column_name,\n",
    "#          showarrow=False,\n",
    "#          font=dict(\n",
    "#              family=\"Courier New, monospace\",\n",
    "#              size=16,\n",
    "#              color=\"black\"\n",
    "#              ),\n",
    "#          align=\"center\",\n",
    "#         )\n",
    "\n",
    "#Add title, add grid for display\n",
    "fig.update_layout(\n",
    "  title_text=\"Research Proposal Overview\", \n",
    "  xaxis={\n",
    "  #set true to help visualize label positions\n",
    "  'showgrid': False, # thin lines in the background\n",
    "  'zeroline': False, # thick line at x=0\n",
    "  'visible': False,  # numbers below\n",
    "  },\n",
    "  yaxis={\n",
    "  'showgrid': False, # thin lines in the background\n",
    "  'zeroline': False, # thick line at x=0\n",
    "  'visible': False,  # numbers below\n",
    "  }, plot_bgcolor='rgba(0,0,0,0)',  font_color= \"black\", font_size=30)\n",
    "\n",
    "\n",
    "\n",
    "fig.show()"
   ]
  }
 ],
 "metadata": {
  "kernelspec": {
   "display_name": "blast",
   "language": "python",
   "name": "blast"
  },
  "language_info": {
   "codemirror_mode": {
    "name": "ipython",
    "version": 3
   },
   "file_extension": ".py",
   "mimetype": "text/x-python",
   "name": "python",
   "nbconvert_exporter": "python",
   "pygments_lexer": "ipython3",
   "version": "3.8.5"
  },
  "orig_nbformat": 4
 },
 "nbformat": 4,
 "nbformat_minor": 2
}
